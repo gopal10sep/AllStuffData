{
 "cells": [
  {
   "cell_type": "markdown",
   "metadata": {},
   "source": [
    "### Fred API"
   ]
  },
  {
   "cell_type": "code",
   "execution_count": null,
   "metadata": {},
   "outputs": [],
   "source": [
    "# Import preliminaries\n",
    "import requests\n",
    "import pandas as pd\n",
    "import config # file with api key"
   ]
  },
  {
   "cell_type": "code",
   "execution_count": 2,
   "metadata": {},
   "outputs": [],
   "source": [
    "# The URL for the FRED API\n",
    "base = 'https://api.stlouisfed.org/fred/series/observations?series_id='\n",
    "\n",
    "# List of FRED series IDs and their description\n",
    "s_dict = {'CES3000000008': 'Manufacturing AHE, SA', \n",
    "          'CES1000000008': 'Mining and Logging AHE, SA',\n",
    "          'CES4000000008': 'Trade, Transportation, and Utilities AHE, SA',\n",
    "          'CES2000000008': 'Construction AHE, SA',\n",
    "          'CES5000000008': 'Information AHE, SA',\n",
    "          'CES5500000008': 'Financial Activities AHE, SA',\n",
    "          'CES6000000008': 'Professional and Business Services AHE, SA',\n",
    "          'CES6500000008': 'Education and Health Services AHE, SA',\n",
    "          'CES7000000008': 'Leisure and Hospitality AHE, SA',\n",
    "          'AHETPI': 'Total Private AHE, SA',\n",
    "          }\n",
    "\n",
    "# Include start date, API key from config.py file and file type json\n",
    "start_date = '1980-01-01'\n",
    "dates = '&observation_start={}'.format(start_date)\n",
    "api_key = '&api_key={}'.format(config.fred_key)\n",
    "ftype = '&file_type=json'"
   ]
  },
  {
   "cell_type": "code",
   "execution_count": 3,
   "metadata": {},
   "outputs": [
    {
     "data": {
      "text/html": [
       "<div>\n",
       "<style scoped>\n",
       "    .dataframe tbody tr th:only-of-type {\n",
       "        vertical-align: middle;\n",
       "    }\n",
       "\n",
       "    .dataframe tbody tr th {\n",
       "        vertical-align: top;\n",
       "    }\n",
       "\n",
       "    .dataframe thead th {\n",
       "        text-align: right;\n",
       "    }\n",
       "</style>\n",
       "<table border=\"1\" class=\"dataframe\">\n",
       "  <thead>\n",
       "    <tr style=\"text-align: right;\">\n",
       "      <th></th>\n",
       "      <th>Manufacturing AHE, SA</th>\n",
       "      <th>Mining and Logging AHE, SA</th>\n",
       "      <th>Trade, Transportation, and Utilities AHE, SA</th>\n",
       "      <th>Construction AHE, SA</th>\n",
       "      <th>Information AHE, SA</th>\n",
       "      <th>Financial Activities AHE, SA</th>\n",
       "      <th>Professional and Business Services AHE, SA</th>\n",
       "      <th>Education and Health Services AHE, SA</th>\n",
       "      <th>Leisure and Hospitality AHE, SA</th>\n",
       "      <th>Total Private AHE, SA</th>\n",
       "    </tr>\n",
       "  </thead>\n",
       "  <tbody>\n",
       "    <tr>\n",
       "      <th>2022-05-01</th>\n",
       "      <td>24.94</td>\n",
       "      <td>32.38</td>\n",
       "      <td>23.81</td>\n",
       "      <td>32.14</td>\n",
       "      <td>37.41</td>\n",
       "      <td>32.05</td>\n",
       "      <td>32.33</td>\n",
       "      <td>28.63</td>\n",
       "      <td>17.74</td>\n",
       "      <td>27.32</td>\n",
       "    </tr>\n",
       "    <tr>\n",
       "      <th>2022-06-01</th>\n",
       "      <td>24.96</td>\n",
       "      <td>32.83</td>\n",
       "      <td>23.87</td>\n",
       "      <td>32.27</td>\n",
       "      <td>37.65</td>\n",
       "      <td>32.24</td>\n",
       "      <td>32.53</td>\n",
       "      <td>28.83</td>\n",
       "      <td>17.78</td>\n",
       "      <td>27.45</td>\n",
       "    </tr>\n",
       "    <tr>\n",
       "      <th>2022-07-01</th>\n",
       "      <td>25.05</td>\n",
       "      <td>33.06</td>\n",
       "      <td>23.98</td>\n",
       "      <td>32.41</td>\n",
       "      <td>37.79</td>\n",
       "      <td>32.46</td>\n",
       "      <td>32.62</td>\n",
       "      <td>28.97</td>\n",
       "      <td>17.82</td>\n",
       "      <td>27.57</td>\n",
       "    </tr>\n",
       "    <tr>\n",
       "      <th>2022-08-01</th>\n",
       "      <td>25.11</td>\n",
       "      <td>33.14</td>\n",
       "      <td>24.08</td>\n",
       "      <td>32.62</td>\n",
       "      <td>38.26</td>\n",
       "      <td>32.52</td>\n",
       "      <td>32.66</td>\n",
       "      <td>29.07</td>\n",
       "      <td>17.92</td>\n",
       "      <td>27.67</td>\n",
       "    </tr>\n",
       "    <tr>\n",
       "      <th>2022-09-01</th>\n",
       "      <td>25.22</td>\n",
       "      <td>33.02</td>\n",
       "      <td>24.17</td>\n",
       "      <td>32.83</td>\n",
       "      <td>38.77</td>\n",
       "      <td>32.84</td>\n",
       "      <td>32.73</td>\n",
       "      <td>29.08</td>\n",
       "      <td>17.97</td>\n",
       "      <td>27.77</td>\n",
       "    </tr>\n",
       "  </tbody>\n",
       "</table>\n",
       "</div>"
      ],
      "text/plain": [
       "           Manufacturing AHE, SA Mining and Logging AHE, SA  \\\n",
       "2022-05-01                 24.94                      32.38   \n",
       "2022-06-01                 24.96                      32.83   \n",
       "2022-07-01                 25.05                      33.06   \n",
       "2022-08-01                 25.11                      33.14   \n",
       "2022-09-01                 25.22                      33.02   \n",
       "\n",
       "           Trade, Transportation, and Utilities AHE, SA Construction AHE, SA  \\\n",
       "2022-05-01                                        23.81                32.14   \n",
       "2022-06-01                                        23.87                32.27   \n",
       "2022-07-01                                        23.98                32.41   \n",
       "2022-08-01                                        24.08                32.62   \n",
       "2022-09-01                                        24.17                32.83   \n",
       "\n",
       "           Information AHE, SA Financial Activities AHE, SA  \\\n",
       "2022-05-01               37.41                        32.05   \n",
       "2022-06-01               37.65                        32.24   \n",
       "2022-07-01               37.79                        32.46   \n",
       "2022-08-01               38.26                        32.52   \n",
       "2022-09-01               38.77                        32.84   \n",
       "\n",
       "           Professional and Business Services AHE, SA  \\\n",
       "2022-05-01                                      32.33   \n",
       "2022-06-01                                      32.53   \n",
       "2022-07-01                                      32.62   \n",
       "2022-08-01                                      32.66   \n",
       "2022-09-01                                      32.73   \n",
       "\n",
       "           Education and Health Services AHE, SA  \\\n",
       "2022-05-01                                 28.63   \n",
       "2022-06-01                                 28.83   \n",
       "2022-07-01                                 28.97   \n",
       "2022-08-01                                 29.07   \n",
       "2022-09-01                                 29.08   \n",
       "\n",
       "           Leisure and Hospitality AHE, SA Total Private AHE, SA  \n",
       "2022-05-01                           17.74                 27.32  \n",
       "2022-06-01                           17.78                 27.45  \n",
       "2022-07-01                           17.82                 27.57  \n",
       "2022-08-01                           17.92                 27.67  \n",
       "2022-09-01                           17.97                 27.77  "
      ]
     },
     "execution_count": 3,
     "metadata": {},
     "output_type": "execute_result"
    }
   ],
   "source": [
    "df = pd.DataFrame()\n",
    "for code, name in s_dict.items():\n",
    "    url = '{}{}{}{}{}'.format(base, code, dates, api_key, ftype)\n",
    "    r = requests.get(url).json()['observations']\n",
    "    df[name] = [i['value'] for i in r]\n",
    "df.index = pd.to_datetime([i['date'] for i in r])\n",
    "df.tail()"
   ]
  },
  {
   "cell_type": "code",
   "execution_count": null,
   "metadata": {},
   "outputs": [],
   "source": []
  },
  {
   "cell_type": "code",
   "execution_count": null,
   "metadata": {},
   "outputs": [],
   "source": []
  },
  {
   "cell_type": "code",
   "execution_count": 4,
   "metadata": {},
   "outputs": [
    {
     "data": {
      "image/png": "[encoded data removed]",
      "text/plain": [
       "<Figure size 432x288 with 1 Axes>"
      ]
     },
     "metadata": {
      "needs_background": "light"
     },
     "output_type": "display_data"
    }
   ],
   "source": [
    "%matplotlib inline\n",
    "import pandas as pd\n",
    "\n",
    "series = 'UNRATE'\n",
    "\n",
    "url = f'http://research.stlouisfed.org/fred2/series/{series}/downloaddata/{series}.csv'\n",
    "\n",
    "df = pd.read_csv(url, index_col='DATE', parse_dates=True)\n",
    "df.plot(title=series, legend=False);"
   ]
  },
  {
   "cell_type": "markdown",
   "metadata": {},
   "source": [
    "### BLS API"
   ]
  },
  {
   "cell_type": "markdown",
   "metadata": {},
   "source": [
    "#### Single series from API v1"
   ]
  },
  {
   "cell_type": "code",
   "execution_count": 5,
   "metadata": {},
   "outputs": [],
   "source": [
    "# BLS API v1 url\n",
    "base_url = 'https://api.bls.gov/publicAPI/v1/timeseries/data/'"
   ]
  },
  {
   "cell_type": "code",
   "execution_count": 6,
   "metadata": {},
   "outputs": [],
   "source": [
    "# BLS series id for the civilian labor force participation rate\n",
    "series = {'id': 'LNS11300000',\n",
    "          'name': 'Labor Force Participation Rate'}"
   ]
  },
  {
   "cell_type": "code",
   "execution_count": 7,
   "metadata": {},
   "outputs": [
    {
     "name": "stdout",
     "output_type": "stream",
     "text": [
      "https://api.bls.gov/publicAPI/v1/timeseries/data/LNS11300000\n"
     ]
    }
   ],
   "source": [
    "data_url = '{}{}'.format(base_url, series['id'])\n",
    "print(data_url)"
   ]
  },
  {
   "cell_type": "code",
   "execution_count": 8,
   "metadata": {},
   "outputs": [
    {
     "name": "stdout",
     "output_type": "stream",
     "text": [
      "Status: REQUEST_SUCCEEDED\n"
     ]
    }
   ],
   "source": [
    "import requests\n",
    "\n",
    "r = requests.get(data_url).json()\n",
    "print('Status: ' + r['status'])"
   ]
  },
  {
   "cell_type": "code",
   "execution_count": 9,
   "metadata": {},
   "outputs": [
    {
     "name": "stdout",
     "output_type": "stream",
     "text": [
      "dict_keys(['status', 'responseTime', 'message', 'Results'])\n"
     ]
    }
   ],
   "source": [
    "print(r.keys())"
   ]
  },
  {
   "cell_type": "code",
   "execution_count": 10,
   "metadata": {},
   "outputs": [
    {
     "name": "stdout",
     "output_type": "stream",
     "text": [
      "{'year': '2022', 'period': 'M09', 'periodName': 'September', 'latest': 'true', 'value': '62.3', 'footnotes': [{}]}\n"
     ]
    }
   ],
   "source": [
    "r = r['Results']['series'][0]['data']\n",
    "print(r[0])"
   ]
  },
  {
   "cell_type": "code",
   "execution_count": 21,
   "metadata": {},
   "outputs": [],
   "source": [
    "import pandas as pd\n",
    "\n",
    "dates = ['{} {} {}'.format('1',i['periodName'], i['year']) for i in r]\n",
    "index = pd.to_datetime(dates)\n"
   ]
  },
  {
   "cell_type": "code",
   "execution_count": 22,
   "metadata": {},
   "outputs": [
    {
     "data": {
      "text/html": [
       "<div>\n",
       "<style scoped>\n",
       "    .dataframe tbody tr th:only-of-type {\n",
       "        vertical-align: middle;\n",
       "    }\n",
       "\n",
       "    .dataframe tbody tr th {\n",
       "        vertical-align: top;\n",
       "    }\n",
       "\n",
       "    .dataframe thead th {\n",
       "        text-align: right;\n",
       "    }\n",
       "</style>\n",
       "<table border=\"1\" class=\"dataframe\">\n",
       "  <thead>\n",
       "    <tr style=\"text-align: right;\">\n",
       "      <th></th>\n",
       "      <th>LNS11300000</th>\n",
       "      <th>footnotes</th>\n",
       "    </tr>\n",
       "  </thead>\n",
       "  <tbody>\n",
       "    <tr>\n",
       "      <th>2022-07-01</th>\n",
       "      <td>62.1</td>\n",
       "      <td>{}</td>\n",
       "    </tr>\n",
       "    <tr>\n",
       "      <th>2022-08-01</th>\n",
       "      <td>62.4</td>\n",
       "      <td>{}</td>\n",
       "    </tr>\n",
       "    <tr>\n",
       "      <th>2022-09-01</th>\n",
       "      <td>62.3</td>\n",
       "      <td>{}</td>\n",
       "    </tr>\n",
       "  </tbody>\n",
       "</table>\n",
       "</div>"
      ],
      "text/plain": [
       "            LNS11300000 footnotes\n",
       "2022-07-01         62.1        {}\n",
       "2022-08-01         62.4        {}\n",
       "2022-09-01         62.3        {}"
      ]
     },
     "execution_count": 22,
     "metadata": {},
     "output_type": "execute_result"
    }
   ],
   "source": [
    "data = {series['id']: [float(i['value']) for i in r],\n",
    "        'footnotes': [i['footnotes'][0] for i in r]}\n",
    "\n",
    "df = pd.DataFrame(index=index, data=data).iloc[::-1]\n",
    "\n",
    "df.tail(3)"
   ]
  },
  {
   "cell_type": "code",
   "execution_count": 23,
   "metadata": {},
   "outputs": [
    {
     "data": {
      "text/plain": [
       "<matplotlib.axes._subplots.AxesSubplot at 0x117519c50>"
      ]
     },
     "execution_count": 23,
     "metadata": {},
     "output_type": "execute_result"
    },
    {
     "data": {
      "image/png": "[encoded data removed]",
      "text/plain": [
       "<Figure size 432x288 with 1 Axes>"
      ]
     },
     "metadata": {
      "needs_background": "light"
     },
     "output_type": "display_data"
    }
   ],
   "source": [
    "%matplotlib inline\n",
    "\n",
    "df['mean'] = df[series['id']].mean()\n",
    "df[[series['id'], 'mean']].plot(title=series['name'])"
   ]
  },
  {
   "cell_type": "markdown",
   "metadata": {},
   "source": [
    "#### BLS: Requesting multiple series and specific dates"
   ]
  },
  {
   "cell_type": "code",
   "execution_count": 41,
   "metadata": {},
   "outputs": [],
   "source": [
    "import config # .py file with bls_key = 'API key here'\n",
    "\n",
    "# The url for BLS API v2\n",
    "url = 'https://api.bls.gov/publicAPI/v2/timeseries/data/'\n",
    "\n",
    "# API key in config.py which contains: bls_key = 'key'\n",
    "key = '?registrationkey={}'.format(config.bls_key)\n",
    "\n",
    "# Series stored as a dictionary\n",
    "series_dict = {\n",
    "    'LNS14000003': 'White',\n",
    "    'LNS14000006': 'Black',\n",
    "    'LNS14000009': 'Hispanic'}\n",
    "\n",
    "# Start year and end year\n",
    "dates = (\n",
    "    '2013', \n",
    "    '2023'\n",
    ")"
   ]
  },
  {
   "cell_type": "code",
   "execution_count": 42,
   "metadata": {},
   "outputs": [],
   "source": [
    "import json\n",
    "\n",
    "# Specify json as content type to return\n",
    "headers = {'Content-type': 'application/json'}\n",
    "\n",
    "# Submit the list of series as data\n",
    "data = json.dumps({\n",
    "    \"seriesid\": list(series_dict.keys()),\n",
    "    \"startyear\": dates[0],\n",
    "    \"endyear\": dates[1]\n",
    "})\n",
    "\n",
    "# Post request for the data\n",
    "p = requests.post(\n",
    "    '{}{}'.format(url, key),\n",
    "    headers=headers,\n",
    "    data=data).json()['Results']['series']"
   ]
  },
  {
   "cell_type": "code",
   "execution_count": 43,
   "metadata": {},
   "outputs": [
    {
     "data": {
      "text/html": [
       "<div>\n",
       "<style scoped>\n",
       "    .dataframe tbody tr th:only-of-type {\n",
       "        vertical-align: middle;\n",
       "    }\n",
       "\n",
       "    .dataframe tbody tr th {\n",
       "        vertical-align: top;\n",
       "    }\n",
       "\n",
       "    .dataframe thead th {\n",
       "        text-align: right;\n",
       "    }\n",
       "</style>\n",
       "<table border=\"1\" class=\"dataframe\">\n",
       "  <thead>\n",
       "    <tr style=\"text-align: right;\">\n",
       "      <th></th>\n",
       "      <th>White</th>\n",
       "      <th>Black</th>\n",
       "      <th>Hispanic</th>\n",
       "    </tr>\n",
       "  </thead>\n",
       "  <tbody>\n",
       "    <tr>\n",
       "      <th>2022-05-01</th>\n",
       "      <td>3.2</td>\n",
       "      <td>6.2</td>\n",
       "      <td>4.3</td>\n",
       "    </tr>\n",
       "    <tr>\n",
       "      <th>2022-06-01</th>\n",
       "      <td>3.3</td>\n",
       "      <td>5.8</td>\n",
       "      <td>4.3</td>\n",
       "    </tr>\n",
       "    <tr>\n",
       "      <th>2022-07-01</th>\n",
       "      <td>3.1</td>\n",
       "      <td>6.0</td>\n",
       "      <td>3.9</td>\n",
       "    </tr>\n",
       "    <tr>\n",
       "      <th>2022-08-01</th>\n",
       "      <td>3.2</td>\n",
       "      <td>6.4</td>\n",
       "      <td>4.5</td>\n",
       "    </tr>\n",
       "    <tr>\n",
       "      <th>2022-09-01</th>\n",
       "      <td>3.1</td>\n",
       "      <td>5.8</td>\n",
       "      <td>3.8</td>\n",
       "    </tr>\n",
       "  </tbody>\n",
       "</table>\n",
       "</div>"
      ],
      "text/plain": [
       "            White  Black  Hispanic\n",
       "2022-05-01    3.2    6.2       4.3\n",
       "2022-06-01    3.3    5.8       4.3\n",
       "2022-07-01    3.1    6.0       3.9\n",
       "2022-08-01    3.2    6.4       4.5\n",
       "2022-09-01    3.1    5.8       3.8"
      ]
     },
     "execution_count": 43,
     "metadata": {},
     "output_type": "execute_result"
    }
   ],
   "source": [
    "# Date index from first series\n",
    "date_list = [f\"{i['year']}-{i['period'][1:]}-01\" for i in p[0]['data']]\n",
    "\n",
    "# Empty dataframe to fill with values\n",
    "df = pd.DataFrame()\n",
    "\n",
    "# Build a pandas series from the API results, p\n",
    "for s in p:\n",
    "    df[series_dict[s['seriesID']]] = pd.Series(\n",
    "        index = pd.to_datetime(date_list),\n",
    "        data = [i['value'] for i in s['data']]\n",
    "        ).astype(float).iloc[::-1]\n",
    "\n",
    "# Show last 5 results\n",
    "df.tail()"
   ]
  },
  {
   "cell_type": "code",
   "execution_count": 44,
   "metadata": {},
   "outputs": [
    {
     "data": {
      "text/plain": [
       "<matplotlib.axes._subplots.AxesSubplot at 0x119027650>"
      ]
     },
     "execution_count": 44,
     "metadata": {},
     "output_type": "execute_result"
    },
    {
     "data": {
      "image/png": "[encoded data removed]",
      "text/plain": [
       "<Figure size 432x288 with 1 Axes>"
      ]
     },
     "metadata": {
      "needs_background": "light"
     },
     "output_type": "display_data"
    }
   ],
   "source": [
    "# Simple line plot of the data\n",
    "df.plot(title='Unemployment Rates by Race or Origin')"
   ]
  },
  {
   "cell_type": "code",
   "execution_count": null,
   "metadata": {},
   "outputs": [],
   "source": []
  }
 ],
 "metadata": {
  "kernelspec": {
   "display_name": "Python 3",
   "language": "python",
   "name": "python3"
  },
  "language_info": {
   "codemirror_mode": {
    "name": "ipython",
    "version": 3
   },
   "file_extension": ".py",
   "mimetype": "text/x-python",
   "name": "python",
   "nbconvert_exporter": "python",
   "pygments_lexer": "ipython3",
   "version": "3.7.4"
  }
 },
 "nbformat": 4,
 "nbformat_minor": 4
}
